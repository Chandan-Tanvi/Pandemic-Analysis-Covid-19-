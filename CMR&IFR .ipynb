{
 "cells": [
  {
   "cell_type": "markdown",
   "metadata": {},
   "source": [
    "## IFR&CMR Calculator \n",
    "Data Source - https://www.mygov.in/corona-data/covid19-statewise-status/ \n",
    "\n",
    "\n",
    "Date - 3rd July "
   ]
  },
  {
   "cell_type": "code",
   "execution_count": 1,
   "metadata": {},
   "outputs": [],
   "source": [
    "import pandas as pd \n",
    "from matplotlib import style \n",
    "from tkinter import font\n",
    "import sys \n",
    "\n",
    "wb = pd.read_excel('3rd July.xlsx', sep='\\t', names = ['States', 'Total Cases', 'Discharged', 'Deceased','Population'])\n",
    "\n",
    "st = wb['States'].tolist()\n",
    "k = wb['Total Cases'].tolist() \n",
    "di = wb['Discharged'].tolist()\n",
    "de = wb['Deceased'].tolist()\n",
    "po = wb['Population'].tolist()"
   ]
  },
  {
   "cell_type": "code",
   "execution_count": 2,
   "metadata": {},
   "outputs": [
    {
     "name": "stdout",
     "output_type": "stream",
     "text": [
      "0\n"
     ]
    }
   ],
   "source": [
    "Infec = []\n",
    "for i in range(0, len(k)):\n",
    "    Infec.append(k[i] - (di[i]+de[i]))\n",
    "\n",
    "cmr = []\n",
    "for f in range(0,len(k)):\n",
    "    try:\n",
    "        cmr.append(100*(de[f]/po[f])) \n",
    "    except(ZeroDivisionError, TypeError):\n",
    "        print(\"0\")   \n",
    "\n",
    "ifr=[]\n",
    "for g in range(0, len(di)):\n",
    "    try:\n",
    "        ifr.append((de[g]/k[g])*100)\n",
    "    except(ZeroDivisionError, TypeError):\n",
    "        print('0') "
   ]
  },
  {
   "cell_type": "code",
   "execution_count": 3,
   "metadata": {},
   "outputs": [
    {
     "name": "stdout",
     "output_type": "stream",
     "text": [
      "value is:Himachal Pradesh\n",
      "12\n",
      "value is:Himachal Pradesh\n",
      "12\n",
      "value is:Goa\n",
      "9\n",
      "value is:Tamil Nadu\n",
      "29\n",
      "value is:Puducherry\n",
      "25\n"
     ]
    }
   ],
   "source": [
    "import tkinter as tk \n",
    "from tkinter import *\n",
    "from PIL import Image\n",
    "\n",
    "#Tkinter window.\n",
    "window = tk.Tk()\n",
    "window.title(\"Pandemic Analyzer for 3rd July\")\n",
    "window.geometry(\"470x300\")\n",
    "window.configure(bg='#9b76b5')\n",
    "\n",
    "#please ignore the next three lines if the image isn't loading, by turning it into a comment. \n",
    "filename = PhotoImage(file = \"Covid2.png\") \n",
    "background_label = Label(window, image=filename)\n",
    "background_label.place(x=0, y=0, relwidth=1, relheight=1)\n",
    "\n",
    "\n",
    "label = tk.Label(window, text = \"Please select a state.\", font = ('Georgia', 12), bg= '#cbb1e0', fg = '#4e157d', relief = \"ridge\").grid(row=1, column=5) \n",
    "l1=tk.Label(window, text = \"State: \", font = ('Georgia', 11), width= 15, justify = LEFT, relief = \"solid\", bg='#fad9e5').grid(row=2, column=4) \n",
    "\n",
    "variable = StringVar(window)\n",
    "variable.set(st[0])\n",
    "w = OptionMenu(window, variable, *st).grid(row=2,column =5)\n",
    "\n",
    "def ok():\n",
    "    ky = variable.get()\n",
    "    print (\"value is:\" + ky) \n",
    "    val = st.index(ky) \n",
    "    print(val)\n",
    "    b9 = Label(window, text=\"%s\"%k[val], font = ('Palatino', 10),  width = 20, relief = 'sunken').grid(row = 6, column = 5)\n",
    "    b10= Label(window, text=\"%s\"%di[val], font = ('Palatino',10), width = 20, relief ='sunken').grid(row = 9, column = 5)\n",
    "    b11 = Label(window, text=\"%s\"%de[val], font = ('Palatino',10), width = 20, relief = 'sunken').grid(row = 12, column = 5)\n",
    "    b12 = Label(window, text=\"%s\"%Infec[val], font = ('Palatino',10), width = 20, relief = 'sunken').grid(row = 16, column = 5)\n",
    "    b13 = Label(window, text=\"%s\"%cmr[val], bg = '#f3ff96',width = 20).grid(row = 28, column = 5)\n",
    "    b14 = Label(window, text =\"%s\"%ifr[val], bg = '#f3ff96', width = 20). grid(row=28, column=6)\n",
    "\n",
    "button = Button(window, text= \"OK\", command=ok) \n",
    "button.grid(row=2, column=6)\n",
    "\n",
    "l2 = tk.Label(window, text=\"Total Cases(Statewise): \", font = ('Georgia', 11), width = 17, bg='black', fg='white').grid(row=6, column=4) \n",
    "l3 = tk.Label(window, text=\"Recovered: \", font = ('Georgia', 11), bg='#bff5e5', width = 17).grid(row=9, column=4) \n",
    "l4 = tk.Label(window, text=\"Deceased: \", font = ('Georgia', 11), bg='#f5bfbf', width = 17).grid(row=12, column=4) \n",
    "l5 = tk.Label(window, text=\"Infected: \", font = ('Georgia', 11), bg='#d1d8ff', width = 17).grid(row=16, column=4) \n",
    "btn3 = tk.Button(window, text = \"CMR\", font = \"Georgia, 10\", fg = \"purple\", padx=10).grid(row=22, column=5) \n",
    "btn4 = tk.Button(window, text = \"IFR\", font = \"Georgia, 10\", fg = \"orange\", padx=10).grid(row=22, column=6) \n",
    "\n",
    "l6 = tk.Label(window, text=\"Total Cases(Nationwide):\", font = ('Bookman', 9), bg = '#5e0c85', fg='white', borderwidth = 2,relief=\"sunken\").grid(row=32, column=4)\n",
    "l7 = tk.Label(window, text=\"%s\"%sum(k), font = ('Impact', 14), bg='#fad9e5').grid(row=35, column=4)\n",
    "l8 = tk.Label(window, text=\"Total Discharged(Nationwide)\", font = ('Bookman', 9), bg='#5e0c85', fg ='white', borderwidth = 2, relief=\"sunken\").grid(row=32, column=5)\n",
    "l9 = tk.Label(window, text=\"%s\"%sum(di), font = ('Impact', 14), bg='#fad9e5').grid(row=35, column=5)\n",
    "l10 = tk.Label(window, text=\"Total Deaths : \", font = ('Bookman', 9), bg='#5e0c85', fg= 'white', borderwidth=2, relief = \"sunken\").grid(row=40, column=4) \n",
    "l11 = tk.Label(window, text=\"%s\"%sum(de), font = ('Impact', 14), bg='#fad9e5').grid(row=44, column=4)\n",
    "l12 = tk.Label(window, text=\"Number of people currently infected: \", font = ('Bookman', 9), borderwidth =2, bg='#5e0c85', fg = 'white', relief = \"sunken\").grid(row=40, column=5) \n",
    "l13 = tk.Label(window, text=\"%s\"%sum(Infec), font = ('Impact', 14), bg='#fad9e5').grid(row=44, column=5)\n",
    "\n",
    "window.mainloop()\n"
   ]
  },
  {
   "cell_type": "code",
   "execution_count": null,
   "metadata": {},
   "outputs": [],
   "source": []
  },
  {
   "cell_type": "code",
   "execution_count": null,
   "metadata": {},
   "outputs": [],
   "source": []
  }
 ],
 "metadata": {
  "kernelspec": {
   "display_name": "Python 3",
   "language": "python",
   "name": "python3"
  },
  "language_info": {
   "codemirror_mode": {
    "name": "ipython",
    "version": 3
   },
   "file_extension": ".py",
   "mimetype": "text/x-python",
   "name": "python",
   "nbconvert_exporter": "python",
   "pygments_lexer": "ipython3",
   "version": "3.7.6"
  }
 },
 "nbformat": 4,
 "nbformat_minor": 2
}
