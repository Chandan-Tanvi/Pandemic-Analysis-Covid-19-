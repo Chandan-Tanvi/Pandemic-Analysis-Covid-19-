{
 "cells": [
  {
   "cell_type": "code",
   "execution_count": 3,
   "metadata": {},
   "outputs": [],
   "source": [
    "import pandas as pd \n",
    "import numpy as np\n",
    "from matplotlib import pyplot as plt \n",
    "from datetime import datetime as dt\n",
    "from sklearn.metrics import r2_score\n",
    "from sklearn.model_selection import train_test_split"
   ]
  },
  {
   "cell_type": "code",
   "execution_count": 4,
   "metadata": {},
   "outputs": [],
   "source": [
    "data = pd.read_csv('Cases_TimeSeries.csv')"
   ]
  },
  {
   "cell_type": "code",
   "execution_count": 7,
   "metadata": {},
   "outputs": [
    {
     "data": {
      "text/plain": [
       "<matplotlib.collections.PathCollection at 0x24c34be5388>"
      ]
     },
     "execution_count": 7,
     "metadata": {},
     "output_type": "execute_result"
    },
    {
     "data": {
      "image/png": "[encoded data removed]",
      "text/plain": [
       "<Figure size 432x288 with 1 Axes>"
      ]
     },
     "metadata": {
      "needs_background": "light"
     },
     "output_type": "display_data"
    }
   ],
   "source": [
    "plt.scatter(data['Date'], data['Total_Confirmed'])"
   ]
  },
  {
   "cell_type": "code",
   "execution_count": 8,
   "metadata": {},
   "outputs": [
    {
     "name": "stdout",
     "output_type": "stream",
     "text": [
      "     Total_Confirmed  Daily_Confirmed\n",
      "43               102               11\n",
      "112           124759             6536\n",
      "161           822609            27762\n",
      "66              4777              484\n",
      "89             33065             1705\n",
      "44               112               10\n",
      "150           567539            18339\n",
      "32                 6                1\n",
      "64              3684              579\n",
      "130           276002             9981\n",
      "133           309599            11306\n",
      "77             14354              922\n",
      "34                30                2\n",
      "120           181860             8364\n",
      "68              5915              565\n",
      "76             13432             1061\n",
      "60              1635              309\n",
      "63              3105              560\n",
      "158           743496            23147\n",
      "78             15725             1371\n",
      "17                 3                0\n",
      "128           257485            10882\n",
      "14                 3                0\n",
      "134           321638            12039\n",
      "45               126               14\n",
      "159           769057            25561\n",
      "84             24448             1408\n",
      "55               730               73\n",
      "48               198               27\n",
      "49               256               58\n",
      "8                  3                0\n",
      "47               171               25\n",
      "146           491193            18205\n",
      "75             12371              886\n",
      "80             18544             1239\n",
      "24                 3                0\n",
      "35                31                1\n",
      "71              8453              854\n",
      "50               334               78\n",
      "109           106480             6154\n",
      "125           226723             9847\n",
      "121           190649             8789\n",
      "153           627171            21947\n",
      "155           673907            24018\n",
      "53               571               74\n",
      "107            95698             5049\n",
      "0                  1                1\n",
      "2                  1                0\n",
      "87             29458             1568\n"
     ]
    }
   ],
   "source": [
    "X = data.loc[:, ['Total_Confirmed', 'Daily_Confirmed']] \n",
    "y = data.Total_Recovered\n",
    "\n",
    "X_train, X_test, y_train, y_test = train_test_split(X, y, test_size=0.3)\n",
    "\n",
    "print(X_test)"
   ]
  },
  {
   "cell_type": "code",
   "execution_count": 9,
   "metadata": {},
   "outputs": [],
   "source": [
    "from sklearn.linear_model import LinearRegression\n",
    "model = LinearRegression()"
   ]
  },
  {
   "cell_type": "code",
   "execution_count": 10,
   "metadata": {},
   "outputs": [
    {
     "data": {
      "text/plain": [
       "0.9953635899675267"
      ]
     },
     "execution_count": 10,
     "metadata": {},
     "output_type": "execute_result"
    }
   ],
   "source": [
    "model.fit(X_train, y_train)\n",
    "y_predicted = model.predict(X_test)\n",
    "r2_score(y_test, y_predicted, multioutput='uniform_average')"
   ]
  },
  {
   "cell_type": "code",
   "execution_count": 14,
   "metadata": {},
   "outputs": [
    {
     "data": {
      "text/plain": [
       "array([499331.6845564])"
      ]
     },
     "execution_count": 14,
     "metadata": {},
     "output_type": "execute_result"
    }
   ],
   "source": [
    "model.predict([[820000,25000]])"
   ]
  },
  {
   "cell_type": "code",
   "execution_count": 15,
   "metadata": {},
   "outputs": [
    {
     "data": {
      "text/plain": [
       "array([613560.81215508])"
      ]
     },
     "execution_count": 15,
     "metadata": {},
     "output_type": "execute_result"
    }
   ],
   "source": [
    "model.predict([[1000000, 30000]])"
   ]
  },
  {
   "cell_type": "code",
   "execution_count": 21,
   "metadata": {},
   "outputs": [],
   "source": [
    "Y = data.loc[:, ['Total_Confirmed','Daily_Confirmed']]\n",
    "z = data.Total_Deceased\n",
    "Y_train, Y_test, z_train, z_test = train_test_split(Y, z, test_size=0.3)"
   ]
  },
  {
   "cell_type": "code",
   "execution_count": 22,
   "metadata": {},
   "outputs": [
    {
     "data": {
      "text/plain": [
       "0.9974692769754353"
      ]
     },
     "execution_count": 22,
     "metadata": {},
     "output_type": "execute_result"
    }
   ],
   "source": [
    "model1 = LinearRegression()\n",
    "model1.fit(Y_train, z_train)\n",
    "z_predicted = model1.predict(Y_test)\n",
    "r2_score(z_test, z_predicted, multioutput='uniform_average') "
   ]
  },
  {
   "cell_type": "code",
   "execution_count": 23,
   "metadata": {},
   "outputs": [
    {
     "data": {
      "text/plain": [
       "array([23842.01348057])"
      ]
     },
     "execution_count": 23,
     "metadata": {},
     "output_type": "execute_result"
    }
   ],
   "source": [
    "model1.predict([[820000,25000]])"
   ]
  },
  {
   "cell_type": "code",
   "execution_count": 25,
   "metadata": {},
   "outputs": [
    {
     "data": {
      "text/plain": [
       "array([29033.31259385])"
      ]
     },
     "execution_count": 25,
     "metadata": {},
     "output_type": "execute_result"
    }
   ],
   "source": [
    "model1.predict([[1000000, 30000]])"
   ]
  }
 ],
 "metadata": {
  "kernelspec": {
   "display_name": "Python 3",
   "language": "python",
   "name": "python3"
  },
  "language_info": {
   "codemirror_mode": {
    "name": "ipython",
    "version": 3
   },
   "file_extension": ".py",
   "mimetype": "text/x-python",
   "name": "python",
   "nbconvert_exporter": "python",
   "pygments_lexer": "ipython3",
   "version": "3.7.6"
  }
 },
 "nbformat": 4,
 "nbformat_minor": 4
}
