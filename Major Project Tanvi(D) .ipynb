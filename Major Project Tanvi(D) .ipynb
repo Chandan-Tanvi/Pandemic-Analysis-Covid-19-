{
 "cells": [
  {
   "cell_type": "code",
   "execution_count": 15,
   "metadata": {},
   "outputs": [],
   "source": [
    "import pandas as pd \n",
    "import itertools\n",
    "import numpy as np\n",
    "import matplotlib.pyplot as plt\n",
    "from sklearn.preprocessing import LabelEncoder\n",
    "import matplotlib.ticker as ticker\n",
    "from sklearn import preprocessing\n",
    "%matplotlib inline"
   ]
  },
  {
   "cell_type": "code",
   "execution_count": 16,
   "metadata": {},
   "outputs": [
    {
     "data": {
      "text/html": [
       "<div>\n",
       "<style scoped>\n",
       "    .dataframe tbody tr th:only-of-type {\n",
       "        vertical-align: middle;\n",
       "    }\n",
       "\n",
       "    .dataframe tbody tr th {\n",
       "        vertical-align: top;\n",
       "    }\n",
       "\n",
       "    .dataframe thead th {\n",
       "        text-align: right;\n",
       "    }\n",
       "</style>\n",
       "<table border=\"1\" class=\"dataframe\">\n",
       "  <thead>\n",
       "    <tr style=\"text-align: right;\">\n",
       "      <th></th>\n",
       "      <th>Date</th>\n",
       "      <th>Time</th>\n",
       "      <th>State/UnionTerritory</th>\n",
       "      <th>ConfirmedIndianNational</th>\n",
       "      <th>Gender</th>\n",
       "      <th>ConfirmedForeignNational</th>\n",
       "      <th>Age</th>\n",
       "      <th>Serious symptoms</th>\n",
       "      <th>Less common symptoms</th>\n",
       "      <th>Most common symptoms</th>\n",
       "      <th>Severity</th>\n",
       "      <th>Patient_Status</th>\n",
       "    </tr>\n",
       "  </thead>\n",
       "  <tbody>\n",
       "    <tr>\n",
       "      <th>0</th>\n",
       "      <td>30/01/20</td>\n",
       "      <td>18:00:00</td>\n",
       "      <td>Kerala</td>\n",
       "      <td>1</td>\n",
       "      <td>Male</td>\n",
       "      <td>0</td>\n",
       "      <td>5</td>\n",
       "      <td>difficulty breathing or shortness of breath</td>\n",
       "      <td>diarrhoea</td>\n",
       "      <td>fever</td>\n",
       "      <td>Seviour</td>\n",
       "      <td>Covid</td>\n",
       "    </tr>\n",
       "    <tr>\n",
       "      <th>1</th>\n",
       "      <td>31/01/20</td>\n",
       "      <td>18:00:00</td>\n",
       "      <td>Kerala</td>\n",
       "      <td>1</td>\n",
       "      <td>Female</td>\n",
       "      <td>0</td>\n",
       "      <td>8</td>\n",
       "      <td>chest pain or pressure</td>\n",
       "      <td>sore throat</td>\n",
       "      <td>tiredness</td>\n",
       "      <td>Mild</td>\n",
       "      <td>flu</td>\n",
       "    </tr>\n",
       "    <tr>\n",
       "      <th>2</th>\n",
       "      <td>2020-01-02 00:00:00</td>\n",
       "      <td>18:00:00</td>\n",
       "      <td>Kerala</td>\n",
       "      <td>2</td>\n",
       "      <td>Male</td>\n",
       "      <td>0</td>\n",
       "      <td>39</td>\n",
       "      <td>loss of speech or movement</td>\n",
       "      <td>conjunctivitis</td>\n",
       "      <td>tiredness</td>\n",
       "      <td>Seviour</td>\n",
       "      <td>flu</td>\n",
       "    </tr>\n",
       "    <tr>\n",
       "      <th>3</th>\n",
       "      <td>2020-02-02 00:00:00</td>\n",
       "      <td>18:00:00</td>\n",
       "      <td>Kerala</td>\n",
       "      <td>3</td>\n",
       "      <td>Female</td>\n",
       "      <td>0</td>\n",
       "      <td>63</td>\n",
       "      <td>loss of speech or movement</td>\n",
       "      <td>sore throat</td>\n",
       "      <td>tiredness</td>\n",
       "      <td>Seviour</td>\n",
       "      <td>Covid</td>\n",
       "    </tr>\n",
       "    <tr>\n",
       "      <th>4</th>\n",
       "      <td>2020-03-02 00:00:00</td>\n",
       "      <td>18:00:00</td>\n",
       "      <td>Kerala</td>\n",
       "      <td>3</td>\n",
       "      <td>Male</td>\n",
       "      <td>0</td>\n",
       "      <td>6</td>\n",
       "      <td>chest pain or pressure</td>\n",
       "      <td>a rash on skin, or discolouration of fingers o...</td>\n",
       "      <td>dry cough</td>\n",
       "      <td>Moderate</td>\n",
       "      <td>flu</td>\n",
       "    </tr>\n",
       "  </tbody>\n",
       "</table>\n",
       "</div>"
      ],
      "text/plain": [
       "                  Date      Time State/UnionTerritory ConfirmedIndianNational  \\\n",
       "0             30/01/20  18:00:00               Kerala                       1   \n",
       "1             31/01/20  18:00:00               Kerala                       1   \n",
       "2  2020-01-02 00:00:00  18:00:00               Kerala                       2   \n",
       "3  2020-02-02 00:00:00  18:00:00               Kerala                       3   \n",
       "4  2020-03-02 00:00:00  18:00:00               Kerala                       3   \n",
       "\n",
       "  Gender  ConfirmedForeignNational  Age   \\\n",
       "0   Male                         0     5   \n",
       "1  Female                        0     8   \n",
       "2   Male                         0    39   \n",
       "3  Female                        0    63   \n",
       "4   Male                         0     6   \n",
       "\n",
       "                              Serious symptoms  \\\n",
       "0  difficulty breathing or shortness of breath   \n",
       "1                       chest pain or pressure   \n",
       "2                   loss of speech or movement   \n",
       "3                   loss of speech or movement   \n",
       "4                       chest pain or pressure   \n",
       "\n",
       "                                Less common symptoms Most common symptoms  \\\n",
       "0                                          diarrhoea                fever   \n",
       "1                                        sore throat            tiredness   \n",
       "2                                     conjunctivitis            tiredness   \n",
       "3                                        sore throat            tiredness   \n",
       "4  a rash on skin, or discolouration of fingers o...            dry cough   \n",
       "\n",
       "   Severity Patient_Status   \n",
       "0   Seviour           Covid  \n",
       "1      Mild             flu  \n",
       "2   Seviour             flu  \n",
       "3   Seviour           Covid  \n",
       "4  Moderate             flu  "
      ]
     },
     "execution_count": 16,
     "metadata": {},
     "output_type": "execute_result"
    }
   ],
   "source": [
    "data = pd.read_excel('PAML_COVID_Dataset.xlsx')\n",
    "data.head()"
   ]
  },
  {
   "cell_type": "code",
   "execution_count": 2,
   "metadata": {},
   "outputs": [
    {
     "data": {
      "text/plain": [
       "tiredness    1054\n",
       "dry cough    1047\n",
       "fever        1034\n",
       "Name: Most common symptoms, dtype: int64"
      ]
     },
     "execution_count": 2,
     "metadata": {},
     "output_type": "execute_result"
    }
   ],
   "source": [
    "data['Severity'].value_counts()\n",
    "data['Less common symptoms'].value_counts()\n",
    "data['Serious symptoms'].value_counts()\n",
    "data['Most common symptoms'].value_counts()"
   ]
  },
  {
   "cell_type": "code",
   "execution_count": 19,
   "metadata": {},
   "outputs": [],
   "source": [
    "dcopy = data.copy() "
   ]
  },
  {
   "cell_type": "code",
   "execution_count": 20,
   "metadata": {},
   "outputs": [],
   "source": [
    "#labeling values in 'Less common symptoms' and all relevant columns. \n",
    "\n",
    "Enc=LabelEncoder()\n",
    "dcopy['Less common symptoms']=Enc.fit_transform(dcopy['Less common symptoms'].astype('str')) \n",
    "#0 - diarrhoea \n",
    "#1 = a rash on skin, or discolouration of fingers or toes\n",
    "#2 - loss of taste or smell \n",
    "#3 - headache \n",
    "#4 - sore throat \n",
    "#5 - aches and pains\n",
    "#6 - conjuctivitis "
   ]
  },
  {
   "cell_type": "code",
   "execution_count": 21,
   "metadata": {},
   "outputs": [
    {
     "data": {
      "text/html": [
       "<div>\n",
       "<style scoped>\n",
       "    .dataframe tbody tr th:only-of-type {\n",
       "        vertical-align: middle;\n",
       "    }\n",
       "\n",
       "    .dataframe tbody tr th {\n",
       "        vertical-align: top;\n",
       "    }\n",
       "\n",
       "    .dataframe thead th {\n",
       "        text-align: right;\n",
       "    }\n",
       "</style>\n",
       "<table border=\"1\" class=\"dataframe\">\n",
       "  <thead>\n",
       "    <tr style=\"text-align: right;\">\n",
       "      <th></th>\n",
       "      <th>Date</th>\n",
       "      <th>Time</th>\n",
       "      <th>State/UnionTerritory</th>\n",
       "      <th>ConfirmedIndianNational</th>\n",
       "      <th>Gender</th>\n",
       "      <th>ConfirmedForeignNational</th>\n",
       "      <th>Age</th>\n",
       "      <th>Serious symptoms</th>\n",
       "      <th>Less common symptoms</th>\n",
       "      <th>Most common symptoms</th>\n",
       "      <th>Severity</th>\n",
       "      <th>Patient_Status</th>\n",
       "    </tr>\n",
       "  </thead>\n",
       "  <tbody>\n",
       "    <tr>\n",
       "      <th>0</th>\n",
       "      <td>30/01/20</td>\n",
       "      <td>18:00:00</td>\n",
       "      <td>Kerala</td>\n",
       "      <td>1</td>\n",
       "      <td>Male</td>\n",
       "      <td>0</td>\n",
       "      <td>5</td>\n",
       "      <td>1</td>\n",
       "      <td>3</td>\n",
       "      <td>fever</td>\n",
       "      <td>Seviour</td>\n",
       "      <td>Covid</td>\n",
       "    </tr>\n",
       "    <tr>\n",
       "      <th>1</th>\n",
       "      <td>31/01/20</td>\n",
       "      <td>18:00:00</td>\n",
       "      <td>Kerala</td>\n",
       "      <td>1</td>\n",
       "      <td>Female</td>\n",
       "      <td>0</td>\n",
       "      <td>8</td>\n",
       "      <td>0</td>\n",
       "      <td>6</td>\n",
       "      <td>tiredness</td>\n",
       "      <td>Mild</td>\n",
       "      <td>flu</td>\n",
       "    </tr>\n",
       "    <tr>\n",
       "      <th>2</th>\n",
       "      <td>2020-01-02 00:00:00</td>\n",
       "      <td>18:00:00</td>\n",
       "      <td>Kerala</td>\n",
       "      <td>2</td>\n",
       "      <td>Male</td>\n",
       "      <td>0</td>\n",
       "      <td>39</td>\n",
       "      <td>2</td>\n",
       "      <td>2</td>\n",
       "      <td>tiredness</td>\n",
       "      <td>Seviour</td>\n",
       "      <td>flu</td>\n",
       "    </tr>\n",
       "    <tr>\n",
       "      <th>3</th>\n",
       "      <td>2020-02-02 00:00:00</td>\n",
       "      <td>18:00:00</td>\n",
       "      <td>Kerala</td>\n",
       "      <td>3</td>\n",
       "      <td>Female</td>\n",
       "      <td>0</td>\n",
       "      <td>63</td>\n",
       "      <td>2</td>\n",
       "      <td>6</td>\n",
       "      <td>tiredness</td>\n",
       "      <td>Seviour</td>\n",
       "      <td>Covid</td>\n",
       "    </tr>\n",
       "    <tr>\n",
       "      <th>4</th>\n",
       "      <td>2020-03-02 00:00:00</td>\n",
       "      <td>18:00:00</td>\n",
       "      <td>Kerala</td>\n",
       "      <td>3</td>\n",
       "      <td>Male</td>\n",
       "      <td>0</td>\n",
       "      <td>6</td>\n",
       "      <td>0</td>\n",
       "      <td>0</td>\n",
       "      <td>dry cough</td>\n",
       "      <td>Moderate</td>\n",
       "      <td>flu</td>\n",
       "    </tr>\n",
       "  </tbody>\n",
       "</table>\n",
       "</div>"
      ],
      "text/plain": [
       "                  Date      Time State/UnionTerritory ConfirmedIndianNational  \\\n",
       "0             30/01/20  18:00:00               Kerala                       1   \n",
       "1             31/01/20  18:00:00               Kerala                       1   \n",
       "2  2020-01-02 00:00:00  18:00:00               Kerala                       2   \n",
       "3  2020-02-02 00:00:00  18:00:00               Kerala                       3   \n",
       "4  2020-03-02 00:00:00  18:00:00               Kerala                       3   \n",
       "\n",
       "  Gender  ConfirmedForeignNational  Age   Serious symptoms  \\\n",
       "0   Male                         0     5                 1   \n",
       "1  Female                        0     8                 0   \n",
       "2   Male                         0    39                 2   \n",
       "3  Female                        0    63                 2   \n",
       "4   Male                         0     6                 0   \n",
       "\n",
       "   Less common symptoms Most common symptoms  Severity Patient_Status   \n",
       "0                     3                fever   Seviour           Covid  \n",
       "1                     6            tiredness      Mild             flu  \n",
       "2                     2            tiredness   Seviour             flu  \n",
       "3                     6            tiredness   Seviour           Covid  \n",
       "4                     0            dry cough  Moderate             flu  "
      ]
     },
     "execution_count": 21,
     "metadata": {},
     "output_type": "execute_result"
    }
   ],
   "source": [
    "dcopy['Serious symptoms']=Enc.fit_transform(dcopy['Serious symptoms'].astype('str'))\n",
    "dcopy.head()\n",
    "#0 - difficulty breathing or shortness of breath\n",
    "#1 - chest pain or pressure       \n",
    "#2 - loss of speech or movement "
   ]
  },
  {
   "cell_type": "code",
   "execution_count": 22,
   "metadata": {},
   "outputs": [],
   "source": [
    "dcopy['Most common symptoms']=Enc.fit_transform(dcopy['Most common symptoms'].astype('str'))\n",
    "#0 - tiredness\n",
    "#1 - dry cough\n",
    "#2 - fever"
   ]
  },
  {
   "cell_type": "code",
   "execution_count": 23,
   "metadata": {},
   "outputs": [
    {
     "data": {
      "text/html": [
       "<div>\n",
       "<style scoped>\n",
       "    .dataframe tbody tr th:only-of-type {\n",
       "        vertical-align: middle;\n",
       "    }\n",
       "\n",
       "    .dataframe tbody tr th {\n",
       "        vertical-align: top;\n",
       "    }\n",
       "\n",
       "    .dataframe thead th {\n",
       "        text-align: right;\n",
       "    }\n",
       "</style>\n",
       "<table border=\"1\" class=\"dataframe\">\n",
       "  <thead>\n",
       "    <tr style=\"text-align: right;\">\n",
       "      <th></th>\n",
       "      <th>Date</th>\n",
       "      <th>Time</th>\n",
       "      <th>State/UnionTerritory</th>\n",
       "      <th>ConfirmedIndianNational</th>\n",
       "      <th>Gender</th>\n",
       "      <th>ConfirmedForeignNational</th>\n",
       "      <th>Age</th>\n",
       "      <th>Serious symptoms</th>\n",
       "      <th>Less common symptoms</th>\n",
       "      <th>Most common symptoms</th>\n",
       "      <th>Severity</th>\n",
       "      <th>Patient_Status</th>\n",
       "    </tr>\n",
       "  </thead>\n",
       "  <tbody>\n",
       "    <tr>\n",
       "      <th>0</th>\n",
       "      <td>30/01/20</td>\n",
       "      <td>18:00:00</td>\n",
       "      <td>Kerala</td>\n",
       "      <td>1</td>\n",
       "      <td>Male</td>\n",
       "      <td>0</td>\n",
       "      <td>5</td>\n",
       "      <td>1</td>\n",
       "      <td>3</td>\n",
       "      <td>1</td>\n",
       "      <td>2</td>\n",
       "      <td>Covid</td>\n",
       "    </tr>\n",
       "    <tr>\n",
       "      <th>1</th>\n",
       "      <td>31/01/20</td>\n",
       "      <td>18:00:00</td>\n",
       "      <td>Kerala</td>\n",
       "      <td>1</td>\n",
       "      <td>Female</td>\n",
       "      <td>0</td>\n",
       "      <td>8</td>\n",
       "      <td>0</td>\n",
       "      <td>6</td>\n",
       "      <td>2</td>\n",
       "      <td>0</td>\n",
       "      <td>flu</td>\n",
       "    </tr>\n",
       "    <tr>\n",
       "      <th>2</th>\n",
       "      <td>2020-01-02 00:00:00</td>\n",
       "      <td>18:00:00</td>\n",
       "      <td>Kerala</td>\n",
       "      <td>2</td>\n",
       "      <td>Male</td>\n",
       "      <td>0</td>\n",
       "      <td>39</td>\n",
       "      <td>2</td>\n",
       "      <td>2</td>\n",
       "      <td>2</td>\n",
       "      <td>2</td>\n",
       "      <td>flu</td>\n",
       "    </tr>\n",
       "    <tr>\n",
       "      <th>3</th>\n",
       "      <td>2020-02-02 00:00:00</td>\n",
       "      <td>18:00:00</td>\n",
       "      <td>Kerala</td>\n",
       "      <td>3</td>\n",
       "      <td>Female</td>\n",
       "      <td>0</td>\n",
       "      <td>63</td>\n",
       "      <td>2</td>\n",
       "      <td>6</td>\n",
       "      <td>2</td>\n",
       "      <td>2</td>\n",
       "      <td>Covid</td>\n",
       "    </tr>\n",
       "    <tr>\n",
       "      <th>4</th>\n",
       "      <td>2020-03-02 00:00:00</td>\n",
       "      <td>18:00:00</td>\n",
       "      <td>Kerala</td>\n",
       "      <td>3</td>\n",
       "      <td>Male</td>\n",
       "      <td>0</td>\n",
       "      <td>6</td>\n",
       "      <td>0</td>\n",
       "      <td>0</td>\n",
       "      <td>0</td>\n",
       "      <td>1</td>\n",
       "      <td>flu</td>\n",
       "    </tr>\n",
       "  </tbody>\n",
       "</table>\n",
       "</div>"
      ],
      "text/plain": [
       "                  Date      Time State/UnionTerritory ConfirmedIndianNational  \\\n",
       "0             30/01/20  18:00:00               Kerala                       1   \n",
       "1             31/01/20  18:00:00               Kerala                       1   \n",
       "2  2020-01-02 00:00:00  18:00:00               Kerala                       2   \n",
       "3  2020-02-02 00:00:00  18:00:00               Kerala                       3   \n",
       "4  2020-03-02 00:00:00  18:00:00               Kerala                       3   \n",
       "\n",
       "  Gender  ConfirmedForeignNational  Age   Serious symptoms  \\\n",
       "0   Male                         0     5                 1   \n",
       "1  Female                        0     8                 0   \n",
       "2   Male                         0    39                 2   \n",
       "3  Female                        0    63                 2   \n",
       "4   Male                         0     6                 0   \n",
       "\n",
       "   Less common symptoms  Most common symptoms  Severity Patient_Status   \n",
       "0                     3                     1         2           Covid  \n",
       "1                     6                     2         0             flu  \n",
       "2                     2                     2         2             flu  \n",
       "3                     6                     2         2           Covid  \n",
       "4                     0                     0         1             flu  "
      ]
     },
     "execution_count": 23,
     "metadata": {},
     "output_type": "execute_result"
    }
   ],
   "source": [
    "dcopy['Severity']=Enc.fit_transform(dcopy['Severity'].astype('str')) \n",
    "dcopy.head()\n",
    "#0 - Moderate\n",
    "#1 - Mild \n",
    "#2 - Seviour "
   ]
  },
  {
   "cell_type": "code",
   "execution_count": 24,
   "metadata": {},
   "outputs": [],
   "source": [
    "dcopy['State/UnionTerritory'] = Enc.fit_transform(dcopy['State/UnionTerritory'].astype('str'))"
   ]
  },
  {
   "cell_type": "code",
   "execution_count": 25,
   "metadata": {},
   "outputs": [],
   "source": [
    "dcopy.update(dcopy['Gender '].replace(to_replace =[\"Male \"], value =\"0\")) \n",
    "dcopy.update(dcopy['Gender '].replace(to_replace =[\"Female\"], value =\"1\")) \n",
    "dcopy.update(dcopy['Patient_Status '].replace(to_replace =[\"Covid\"], value =\"0\")) \n",
    "dcopy.update(dcopy['Patient_Status '].replace(to_replace =[\"flu\"], value =\"1\")) "
   ]
  },
  {
   "cell_type": "code",
   "execution_count": 32,
   "metadata": {},
   "outputs": [
    {
     "data": {
      "text/html": [
       "<div>\n",
       "<style scoped>\n",
       "    .dataframe tbody tr th:only-of-type {\n",
       "        vertical-align: middle;\n",
       "    }\n",
       "\n",
       "    .dataframe tbody tr th {\n",
       "        vertical-align: top;\n",
       "    }\n",
       "\n",
       "    .dataframe thead th {\n",
       "        text-align: right;\n",
       "    }\n",
       "</style>\n",
       "<table border=\"1\" class=\"dataframe\">\n",
       "  <thead>\n",
       "    <tr style=\"text-align: right;\">\n",
       "      <th></th>\n",
       "      <th>Date</th>\n",
       "      <th>Time</th>\n",
       "      <th>State/UnionTerritory</th>\n",
       "      <th>ConfirmedIndianNational</th>\n",
       "      <th>Gender</th>\n",
       "      <th>ConfirmedForeignNational</th>\n",
       "      <th>Age</th>\n",
       "      <th>Serious symptoms</th>\n",
       "      <th>Less common symptoms</th>\n",
       "      <th>Most common symptoms</th>\n",
       "      <th>Severity</th>\n",
       "      <th>Patient_Status</th>\n",
       "    </tr>\n",
       "  </thead>\n",
       "  <tbody>\n",
       "    <tr>\n",
       "      <th>0</th>\n",
       "      <td>30/01/20</td>\n",
       "      <td>18:00:00</td>\n",
       "      <td>19</td>\n",
       "      <td>1</td>\n",
       "      <td>0</td>\n",
       "      <td>0</td>\n",
       "      <td>5</td>\n",
       "      <td>1</td>\n",
       "      <td>3</td>\n",
       "      <td>1</td>\n",
       "      <td>2</td>\n",
       "      <td>0</td>\n",
       "    </tr>\n",
       "    <tr>\n",
       "      <th>1</th>\n",
       "      <td>31/01/20</td>\n",
       "      <td>18:00:00</td>\n",
       "      <td>19</td>\n",
       "      <td>1</td>\n",
       "      <td>1</td>\n",
       "      <td>0</td>\n",
       "      <td>8</td>\n",
       "      <td>0</td>\n",
       "      <td>6</td>\n",
       "      <td>2</td>\n",
       "      <td>0</td>\n",
       "      <td>1</td>\n",
       "    </tr>\n",
       "    <tr>\n",
       "      <th>2</th>\n",
       "      <td>2020-01-02 00:00:00</td>\n",
       "      <td>18:00:00</td>\n",
       "      <td>19</td>\n",
       "      <td>2</td>\n",
       "      <td>0</td>\n",
       "      <td>0</td>\n",
       "      <td>39</td>\n",
       "      <td>2</td>\n",
       "      <td>2</td>\n",
       "      <td>2</td>\n",
       "      <td>2</td>\n",
       "      <td>1</td>\n",
       "    </tr>\n",
       "    <tr>\n",
       "      <th>3</th>\n",
       "      <td>2020-02-02 00:00:00</td>\n",
       "      <td>18:00:00</td>\n",
       "      <td>19</td>\n",
       "      <td>3</td>\n",
       "      <td>1</td>\n",
       "      <td>0</td>\n",
       "      <td>63</td>\n",
       "      <td>2</td>\n",
       "      <td>6</td>\n",
       "      <td>2</td>\n",
       "      <td>2</td>\n",
       "      <td>0</td>\n",
       "    </tr>\n",
       "    <tr>\n",
       "      <th>4</th>\n",
       "      <td>2020-03-02 00:00:00</td>\n",
       "      <td>18:00:00</td>\n",
       "      <td>19</td>\n",
       "      <td>3</td>\n",
       "      <td>0</td>\n",
       "      <td>0</td>\n",
       "      <td>6</td>\n",
       "      <td>0</td>\n",
       "      <td>0</td>\n",
       "      <td>0</td>\n",
       "      <td>1</td>\n",
       "      <td>1</td>\n",
       "    </tr>\n",
       "  </tbody>\n",
       "</table>\n",
       "</div>"
      ],
      "text/plain": [
       "                  Date      Time  State/UnionTerritory  \\\n",
       "0             30/01/20  18:00:00                    19   \n",
       "1             31/01/20  18:00:00                    19   \n",
       "2  2020-01-02 00:00:00  18:00:00                    19   \n",
       "3  2020-02-02 00:00:00  18:00:00                    19   \n",
       "4  2020-03-02 00:00:00  18:00:00                    19   \n",
       "\n",
       "  ConfirmedIndianNational Gender  ConfirmedForeignNational  Age   \\\n",
       "0                       1       0                        0     5   \n",
       "1                       1       1                        0     8   \n",
       "2                       2       0                        0    39   \n",
       "3                       3       1                        0    63   \n",
       "4                       3       0                        0     6   \n",
       "\n",
       "   Serious symptoms  Less common symptoms  Most common symptoms  Severity  \\\n",
       "0                 1                     3                     1         2   \n",
       "1                 0                     6                     2         0   \n",
       "2                 2                     2                     2         2   \n",
       "3                 2                     6                     2         2   \n",
       "4                 0                     0                     0         1   \n",
       "\n",
       "  Patient_Status   \n",
       "0               0  \n",
       "1               1  \n",
       "2               1  \n",
       "3               0  \n",
       "4               1  "
      ]
     },
     "execution_count": 32,
     "metadata": {},
     "output_type": "execute_result"
    }
   ],
   "source": [
    "dcopy.head()"
   ]
  },
  {
   "cell_type": "code",
   "execution_count": 27,
   "metadata": {},
   "outputs": [
    {
     "data": {
      "text/plain": [
       "array([[-0.99269019, -1.71270758,  0.03107909,  0.00509764, -0.00272752,\n",
       "         1.24112981],\n",
       "       [ 1.00736363, -1.60402899, -1.2022495 ,  1.50332606,  1.21881155,\n",
       "        -1.22383183],\n",
       "       [-0.99269019, -0.48101688,  1.26440769, -0.49431183,  1.21881155,\n",
       "         1.24112981],\n",
       "       [ 1.00736363,  0.38841185,  1.26440769,  1.50332606,  1.21881155,\n",
       "         1.24112981],\n",
       "       [-0.99269019, -1.67648138, -1.2022495 , -1.49313078, -1.22426659,\n",
       "         0.00864899]])"
      ]
     },
     "execution_count": 27,
     "metadata": {},
     "output_type": "execute_result"
    }
   ],
   "source": [
    "X = dcopy[['Gender ','Age ','Serious symptoms','Less common symptoms','Most common symptoms', 'Severity']]\n",
    "y = dcopy['Patient_Status ']\n",
    "X = preprocessing.StandardScaler().fit(X).transform(X.astype(float))\n",
    "\n",
    "X[0:5]"
   ]
  },
  {
   "cell_type": "markdown",
   "metadata": {},
   "source": [
    "## Predicting class using KNN"
   ]
  },
  {
   "cell_type": "code",
   "execution_count": 33,
   "metadata": {},
   "outputs": [
    {
     "name": "stdout",
     "output_type": "stream",
     "text": [
      "Train set: (2194, 6) (2194,)\n",
      "Test set: (941, 6) (941,)\n"
     ]
    }
   ],
   "source": [
    "#splitting data into test&train \n",
    "from sklearn.model_selection import train_test_split\n",
    "X_train, X_test, y_train, y_test = train_test_split( X, y, test_size=0.3, random_state = 5)\n",
    "print ('Train set:', X_train.shape,  y_train.shape)\n",
    "print ('Test set:', X_test.shape,  y_test.shape)"
   ]
  },
  {
   "cell_type": "code",
   "execution_count": 34,
   "metadata": {},
   "outputs": [],
   "source": [
    "from sklearn.neighbors import KNeighborsClassifier"
   ]
  },
  {
   "cell_type": "code",
   "execution_count": 35,
   "metadata": {},
   "outputs": [
    {
     "data": {
      "text/plain": [
       "KNeighborsClassifier(algorithm='auto', leaf_size=30, metric='minkowski',\n",
       "                     metric_params=None, n_jobs=None, n_neighbors=1, p=2,\n",
       "                     weights='uniform')"
      ]
     },
     "execution_count": 35,
     "metadata": {},
     "output_type": "execute_result"
    }
   ],
   "source": [
    "k = 1\n",
    "#Train Model and Predict  \n",
    "neigh = KNeighborsClassifier(n_neighbors = k).fit(X_train,y_train)\n",
    "neigh"
   ]
  },
  {
   "cell_type": "code",
   "execution_count": 31,
   "metadata": {},
   "outputs": [
    {
     "data": {
      "text/plain": [
       "array(['1', '0', '0', '0', '0'], dtype=object)"
      ]
     },
     "execution_count": 31,
     "metadata": {},
     "output_type": "execute_result"
    }
   ],
   "source": [
    "yhat = neigh.predict(X_test)\n",
    "yhat[0:5]"
   ]
  },
  {
   "cell_type": "code",
   "execution_count": 11,
   "metadata": {},
   "outputs": [
    {
     "name": "stdout",
     "output_type": "stream",
     "text": [
      "Train set Accuracy:  0.9858705560619873\n",
      "Test set Accuracy:  0.5164718384697131\n"
     ]
    }
   ],
   "source": [
    "from sklearn import metrics\n",
    "print(\"Train set Accuracy: \", metrics.accuracy_score(y_train, neigh.predict(X_train)))\n",
    "print(\"Test set Accuracy: \", metrics.accuracy_score(y_test, yhat))"
   ]
  },
  {
   "cell_type": "markdown",
   "metadata": {},
   "source": [
    "neigh.predict([[a,b,c,d,e,f]]) \n",
    "\n",
    "## a - Gender \n",
    "#0 - Male\n",
    "#1 - Female\n",
    "        \n",
    "## b - Age\n",
    "\n",
    "## c - Serious Symptoms \n",
    "#0 - difficulty breathing or shortness of breath\n",
    "#1 - chest pain or pressure       \n",
    "#2 - loss of speech or movement   \n",
    "\n",
    "## d - Less common Symptoms \n",
    "#0 - diarrhoea \n",
    "#1 = a rash on skin, or discolouration of fingers or toes\n",
    "#2 - loss of taste or smell \n",
    "#3 - headache \n",
    "#4 - sore throat \n",
    "#5 - aches and pains\n",
    "#6 - conjuctivitis \n",
    "\n",
    "## e - Most common symptoms\n",
    "#0 - tiredness\n",
    "#1 - dry cough\n",
    "#2 - fever\n",
    "\n",
    "## f - Severity\n",
    "#0 - Moderate\n",
    "#1 - Mild \n",
    "#2 - Seviour "
   ]
  },
  {
   "cell_type": "code",
   "execution_count": 12,
   "metadata": {},
   "outputs": [
    {
     "data": {
      "text/plain": [
       "array(['1'], dtype=object)"
      ]
     },
     "execution_count": 12,
     "metadata": {},
     "output_type": "execute_result"
    }
   ],
   "source": [
    "neigh.predict([[0, 34,2,4,2,2]])"
   ]
  },
  {
   "cell_type": "markdown",
   "metadata": {},
   "source": [
    "Value 1 -> Flu "
   ]
  },
  {
   "cell_type": "code",
   "execution_count": 36,
   "metadata": {},
   "outputs": [
    {
     "data": {
      "text/plain": [
       "array(['0'], dtype=object)"
      ]
     },
     "execution_count": 36,
     "metadata": {},
     "output_type": "execute_result"
    }
   ],
   "source": [
    "neigh.predict([[0, 34,0,1,1,2]])"
   ]
  },
  {
   "cell_type": "markdown",
   "metadata": {},
   "source": [
    "Value 0 -> Covid "
   ]
  },
  {
   "cell_type": "code",
   "execution_count": null,
   "metadata": {},
   "outputs": [],
   "source": []
  }
 ],
 "metadata": {
  "kernelspec": {
   "display_name": "Python 3",
   "language": "python",
   "name": "python3"
  },
  "language_info": {
   "codemirror_mode": {
    "name": "ipython",
    "version": 3
   },
   "file_extension": ".py",
   "mimetype": "text/x-python",
   "name": "python",
   "nbconvert_exporter": "python",
   "pygments_lexer": "ipython3",
   "version": "3.7.6"
  }
 },
 "nbformat": 4,
 "nbformat_minor": 4
}
