{
 "cells": [
  {
   "cell_type": "markdown",
   "metadata": {},
   "source": [
    "## Predicting Daily Cases Using Non-linear Regression "
   ]
  },
  {
   "cell_type": "code",
   "execution_count": 120,
   "metadata": {},
   "outputs": [],
   "source": [
    "import numpy as np\n",
    "import pandas as pd\n",
    "import matplotlib.pyplot as plt\n",
    "from sklearn.model_selection import train_test_split\n",
    "\n",
    "data = pd.read_csv('Cases_TimeSeries.csv')"
   ]
  },
  {
   "cell_type": "code",
   "execution_count": 121,
   "metadata": {},
   "outputs": [
    {
     "data": {
      "text/html": [
       "<div>\n",
       "<style scoped>\n",
       "    .dataframe tbody tr th:only-of-type {\n",
       "        vertical-align: middle;\n",
       "    }\n",
       "\n",
       "    .dataframe tbody tr th {\n",
       "        vertical-align: top;\n",
       "    }\n",
       "\n",
       "    .dataframe thead th {\n",
       "        text-align: right;\n",
       "    }\n",
       "</style>\n",
       "<table border=\"1\" class=\"dataframe\">\n",
       "  <thead>\n",
       "    <tr style=\"text-align: right;\">\n",
       "      <th></th>\n",
       "      <th>Date</th>\n",
       "      <th>Daily_Confirmed</th>\n",
       "      <th>Total_Confirmed</th>\n",
       "      <th>Daily_Recovered</th>\n",
       "      <th>Total_Recovered</th>\n",
       "      <th>Daily_Deceased</th>\n",
       "      <th>Total_Deceased</th>\n",
       "    </tr>\n",
       "  </thead>\n",
       "  <tbody>\n",
       "    <tr>\n",
       "      <th>0</th>\n",
       "      <td>30 January</td>\n",
       "      <td>1</td>\n",
       "      <td>1</td>\n",
       "      <td>0</td>\n",
       "      <td>0</td>\n",
       "      <td>0</td>\n",
       "      <td>0</td>\n",
       "    </tr>\n",
       "    <tr>\n",
       "      <th>1</th>\n",
       "      <td>31 January</td>\n",
       "      <td>0</td>\n",
       "      <td>1</td>\n",
       "      <td>0</td>\n",
       "      <td>0</td>\n",
       "      <td>0</td>\n",
       "      <td>0</td>\n",
       "    </tr>\n",
       "    <tr>\n",
       "      <th>2</th>\n",
       "      <td>01 February</td>\n",
       "      <td>0</td>\n",
       "      <td>1</td>\n",
       "      <td>0</td>\n",
       "      <td>0</td>\n",
       "      <td>0</td>\n",
       "      <td>0</td>\n",
       "    </tr>\n",
       "    <tr>\n",
       "      <th>3</th>\n",
       "      <td>02 February</td>\n",
       "      <td>1</td>\n",
       "      <td>2</td>\n",
       "      <td>0</td>\n",
       "      <td>0</td>\n",
       "      <td>0</td>\n",
       "      <td>0</td>\n",
       "    </tr>\n",
       "    <tr>\n",
       "      <th>4</th>\n",
       "      <td>03 February</td>\n",
       "      <td>1</td>\n",
       "      <td>3</td>\n",
       "      <td>0</td>\n",
       "      <td>0</td>\n",
       "      <td>0</td>\n",
       "      <td>0</td>\n",
       "    </tr>\n",
       "  </tbody>\n",
       "</table>\n",
       "</div>"
      ],
      "text/plain": [
       "          Date  Daily_Confirmed  Total_Confirmed  Daily_Recovered  \\\n",
       "0   30 January                1                1                0   \n",
       "1   31 January                0                1                0   \n",
       "2  01 February                0                1                0   \n",
       "3  02 February                1                2                0   \n",
       "4  03 February                1                3                0   \n",
       "\n",
       "   Total_Recovered  Daily_Deceased  Total_Deceased  \n",
       "0                0               0               0  \n",
       "1                0               0               0  \n",
       "2                0               0               0  \n",
       "3                0               0               0  \n",
       "4                0               0               0  "
      ]
     },
     "execution_count": 121,
     "metadata": {},
     "output_type": "execute_result"
    }
   ],
   "source": [
    "data.head()"
   ]
  },
  {
   "cell_type": "code",
   "execution_count": 122,
   "metadata": {},
   "outputs": [
    {
     "data": {
      "text/plain": [
       "<matplotlib.collections.PathCollection at 0x20a5aaa1748>"
      ]
     },
     "execution_count": 122,
     "metadata": {},
     "output_type": "execute_result"
    },
    {
     "data": {
      "image/png": "[encoded data removed]",
      "text/plain": [
       "<Figure size 432x288 with 1 Axes>"
      ]
     },
     "metadata": {
      "needs_background": "light"
     },
     "output_type": "display_data"
    }
   ],
   "source": [
    "plt.scatter(data['Date'], data['Total_Recovered'])"
   ]
  },
  {
   "cell_type": "markdown",
   "metadata": {},
   "source": [
    "#The graph looks similar to that of an exponential/logarithimic function"
   ]
  },
  {
   "cell_type": "code",
   "execution_count": 199,
   "metadata": {},
   "outputs": [],
   "source": [
    "X = data.Total_Confirmed \n",
    "y = data.Daily_Confirmed\n",
    "\n",
    "X_train, X_test, y_train, y_test = train_test_split(X, y, test_size=0.2)"
   ]
  },
  {
   "cell_type": "code",
   "execution_count": 235,
   "metadata": {},
   "outputs": [],
   "source": [
    "def sigmoid(X, Beta_1, Beta_2):\n",
    "    y = 1 / (1 + np.exp(- Beta_1*(X - Beta_2)))  #defining a exponential function\n",
    "    return y "
   ]
  },
  {
   "cell_type": "code",
   "execution_count": 201,
   "metadata": {},
   "outputs": [],
   "source": [
    "xdata = X / max(X)\n",
    "ydata = y / max(y) "
   ]
  },
  {
   "cell_type": "code",
   "execution_count": 202,
   "metadata": {},
   "outputs": [
    {
     "name": "stdout",
     "output_type": "stream",
     "text": [
      "beta_1 = 5.671555, beta_2 = 0.477193\n"
     ]
    }
   ],
   "source": [
    "from scipy.optimize import curve_fit\n",
    "\n",
    "popt, pcov = curve_fit(sigmoid, xdata, ydata)\n",
    "print('beta_1 = %f, beta_2 = %f' % (popt[0],popt[1]))"
   ]
  },
  {
   "cell_type": "code",
   "execution_count": 211,
   "metadata": {},
   "outputs": [
    {
     "data": {
      "image/png": "[encoded data removed]",
      "text/plain": [
       "<Figure size 576x360 with 1 Axes>"
      ]
     },
     "metadata": {
      "needs_background": "dark"
     },
     "output_type": "display_data"
    }
   ],
   "source": [
    "labelx = ['15 Jan','30Jan', '15 Feb', '1Mar', '17Mar', '3Apr', '18Apr', '12June', '27June','10July']\n",
    "\n",
    "x = np.linspace(1, 165, 10)\n",
    "# Normalize x\n",
    "x = x / max(x)\n",
    "plt.figure(figsize=(8,5))\n",
    "y = sigmoid(x, popt[0], popt[1])\n",
    "# Plotting the original data points\n",
    "plt.plot(xdata, ydata, 'ro', label='data')\n",
    "# Plotting the fitted prediction line\n",
    "plt.plot(x, y, linewidth=3.0, label='fit')\n",
    "plt.legend(loc='best')\n",
    "plt.ylabel('Number of Cases(In 1000s)', color='black', fontsize=14)\n",
    "plt.xlabel('Weeks/Dates', color='black', fontsize=14)\n",
    "plt.xticks(x, labelx, color = 'y')\n",
    "plt.yticks(color = 'y')\n",
    "plt.show()"
   ]
  },
  {
   "cell_type": "code",
   "execution_count": 154,
   "metadata": {},
   "outputs": [],
   "source": [
    "xtrain =  X_train / max(X_train)\n",
    "ytrain =  y_train / max(y_train) \n",
    "xtest = X_test / max(X_test)\n",
    "ytest = y_test / max(y_test)"
   ]
  },
  {
   "cell_type": "code",
   "execution_count": 155,
   "metadata": {},
   "outputs": [
    {
     "name": "stdout",
     "output_type": "stream",
     "text": [
      "beta_1 = 5.607369, beta_2 = 0.476749\n"
     ]
    }
   ],
   "source": [
    "popt1, pcov2 = curve_fit(sigmoid, xtrain, ytrain)\n",
    "print('beta_1 = %f, beta_2 = %f' % (popt1[0],popt1[1]))"
   ]
  },
  {
   "cell_type": "code",
   "execution_count": 156,
   "metadata": {},
   "outputs": [],
   "source": [
    "y_hat = sigmoid(xtest, *popt1)"
   ]
  },
  {
   "cell_type": "code",
   "execution_count": 157,
   "metadata": {},
   "outputs": [
    {
     "name": "stdout",
     "output_type": "stream",
     "text": [
      "Mean absolute error: 0.05\n",
      "Residual sum of squares (MSE): 0.00\n"
     ]
    }
   ],
   "source": [
    "mean_abs_error = np.mean(np.absolute(y_hat - ytest))\n",
    "mean_squ_error = np.mean(np.absolute((y_hat - ytest) **2))\n",
    "\n",
    "print(\"Mean absolute error: %.2f\" %mean_abs_error)\n",
    "print(\"Residual sum of squares (MSE): %.2f\" %mean_squ_error)"
   ]
  },
  {
   "cell_type": "code",
   "execution_count": 192,
   "metadata": {},
   "outputs": [
    {
     "name": "stdout",
     "output_type": "stream",
     "text": [
      "R2-score between total cases and daily cases: 0.9585230572193704\n"
     ]
    }
   ],
   "source": [
    "from sklearn.metrics import r2_score\n",
    "r_score = r2_score(y_hat, ytest)\n",
    "print(\"R2-score between total cases and daily cases:\", r_score)"
   ]
  },
  {
   "cell_type": "markdown",
   "metadata": {},
   "source": [
    "## Prediction of recovered cases when total cases are known"
   ]
  },
  {
   "cell_type": "code",
   "execution_count": 163,
   "metadata": {},
   "outputs": [],
   "source": [
    "Y = data.Total_Confirmed \n",
    "z = data.Daily_Recovered "
   ]
  },
  {
   "cell_type": "code",
   "execution_count": 165,
   "metadata": {},
   "outputs": [],
   "source": [
    "Y_train, Y_test, z_train, z_test = train_test_split(Y, z, test_size=0.2) \n",
    "\n",
    "def sigma(Y, Beta_1, Beta_2):\n",
    "    y = 1 / (1 + np.exp(- Beta_1*(X - Beta_2)))\n",
    "    return y "
   ]
  },
  {
   "cell_type": "code",
   "execution_count": 178,
   "metadata": {},
   "outputs": [],
   "source": [
    "ydata = Y / max(Y)\n",
    "zdata = z / max(z) "
   ]
  },
  {
   "cell_type": "code",
   "execution_count": 225,
   "metadata": {},
   "outputs": [
    {
     "name": "stdout",
     "output_type": "stream",
     "text": [
      "beta_1 = 6.021007, beta_2 = 0.541678\n"
     ]
    }
   ],
   "source": [
    "from scipy.optimize import curve_fit\n",
    "\n",
    "popt, pcov = curve_fit(sigmoid, ydata, zdata)\n",
    "print('beta_1 = %f, beta_2 = %f' % (popt[0],popt[1]))"
   ]
  },
  {
   "cell_type": "code",
   "execution_count": 233,
   "metadata": {},
   "outputs": [
    {
     "data": {
      "image/png": "[encoded data removed]",
      "text/plain": [
       "<Figure size 576x360 with 1 Axes>"
      ]
     },
     "metadata": {
      "needs_background": "dark"
     },
     "output_type": "display_data"
    }
   ],
   "source": [
    "x = np.linspace(1, 165, 10)\n",
    "# Normalize x\n",
    "y = y / max(y)\n",
    "plt.figure(figsize=(8,5))\n",
    "z = sigmoid(y, popt[0], popt[1])\n",
    "# Plotting the original data points\n",
    "plt.plot(ydata, zdata, 'ro', label='data')\n",
    "# Plotting the fitted prediction line\n",
    "plt.plot(y, z, linewidth=3.0, label='fit')\n",
    "plt.legend(loc='best')\n",
    "plt.ylabel('Number of Recovered Cases(in 1000)', color='blue', fontsize=14)\n",
    "plt.xlabel('Weeks/Dates', color='blue', fontsize=14)\n",
    "plt.xticks(y, labelx, color = 'y')\n",
    "plt.yticks(color = 'y')\n",
    "plt.show()"
   ]
  },
  {
   "cell_type": "code",
   "execution_count": 234,
   "metadata": {},
   "outputs": [],
   "source": [
    "Ytrain =  Y_train / max(Y_train)\n",
    "ztrain =  z_train / max(z_train) \n",
    "Ytest = Y_test / max(Y_test)\n",
    "ztest = z_test / max(z_test)"
   ]
  },
  {
   "cell_type": "code",
   "execution_count": 220,
   "metadata": {},
   "outputs": [
    {
     "name": "stdout",
     "output_type": "stream",
     "text": [
      "beta_1 = 5.992413, beta_2 = 0.514388\n"
     ]
    }
   ],
   "source": [
    "popt1, pcov2 = curve_fit(sigmoid, Ytrain, ztrain)\n",
    "print('beta_1 = %f, beta_2 = %f' % (popt1[0],popt1[1]))"
   ]
  },
  {
   "cell_type": "code",
   "execution_count": 221,
   "metadata": {},
   "outputs": [],
   "source": [
    "z_hat = sigmoid(Ytest, *popt1)"
   ]
  },
  {
   "cell_type": "code",
   "execution_count": 222,
   "metadata": {},
   "outputs": [
    {
     "name": "stdout",
     "output_type": "stream",
     "text": [
      "Mean absolute error: 0.05\n",
      "Residual sum of squares (MSE): 0.00\n"
     ]
    }
   ],
   "source": [
    "mean_abs_error = np.mean(np.absolute(z_hat - ztest))\n",
    "mean_squ_error = np.mean(np.absolute((z_hat - ztest) **2))\n",
    "\n",
    "print(\"Mean absolute error: %.2f\" %mean_abs_error)\n",
    "print(\"Residual sum of squares (MSE): %.2f\" %mean_squ_error)"
   ]
  },
  {
   "cell_type": "code",
   "execution_count": 223,
   "metadata": {},
   "outputs": [
    {
     "name": "stdout",
     "output_type": "stream",
     "text": [
      "R2-score between total cases and recovered cases: 0.9452790281348749\n"
     ]
    }
   ],
   "source": [
    "from sklearn.metrics import r2_score\n",
    "r_score = r2_score(z_hat, ztest)\n",
    "print(\"R2-score between total cases and recovered cases:\", r_score)"
   ]
  },
  {
   "cell_type": "code",
   "execution_count": null,
   "metadata": {},
   "outputs": [],
   "source": []
  },
  {
   "cell_type": "code",
   "execution_count": null,
   "metadata": {},
   "outputs": [],
   "source": []
  }
 ],
 "metadata": {
  "kernelspec": {
   "display_name": "Python 3",
   "language": "python",
   "name": "python3"
  },
  "language_info": {
   "codemirror_mode": {
    "name": "ipython",
    "version": 3
   },
   "file_extension": ".py",
   "mimetype": "text/x-python",
   "name": "python",
   "nbconvert_exporter": "python",
   "pygments_lexer": "ipython3",
   "version": "3.7.6"
  }
 },
 "nbformat": 4,
 "nbformat_minor": 4
}
